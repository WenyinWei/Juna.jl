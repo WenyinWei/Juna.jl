{
 "cells": [
  {
   "cell_type": "code",
   "execution_count": null,
   "id": "9c83526a",
   "metadata": {},
   "outputs": [],
   "source": [
    "Threads.nthreads()"
   ]
  },
  {
   "cell_type": "code",
   "execution_count": null,
   "id": "96268e7b",
   "metadata": {},
   "outputs": [],
   "source": [
    "BR = Array{Float64,3}(undef, 256, 256, 129);\n",
    "BZ = Array{Float64,3}(undef, 256, 256, 129);\n",
    "BPhi = Array{Float64,3}(undef, 256, 256, 129);"
   ]
  },
  {
   "cell_type": "code",
   "execution_count": null,
   "id": "97aea99e",
   "metadata": {
    "scrolled": false
   },
   "outputs": [],
   "source": [
    "using NetCDF\n",
    "ncfile = NetCDF.open(\"/home/dell/fusiondata/w7x/w7x_standard.nc\", readdimvar=true)"
   ]
  },
  {
   "cell_type": "code",
   "execution_count": null,
   "id": "05ceb45f",
   "metadata": {},
   "outputs": [],
   "source": [
    "using TensorCast"
   ]
  },
  {
   "cell_type": "code",
   "execution_count": null,
   "id": "291e78b7",
   "metadata": {},
   "outputs": [],
   "source": [
    "struct CylindricalVectorField{T}\n",
    "    R::Vector{T}\n",
    "    Z::Vector{T}\n",
    "    Phi::Vector{T}\n",
    "    VR::Array{T,3}\n",
    "    VZ::Array{T,3}\n",
    "    VPhi::Array{T,3}\n",
    "end"
   ]
  },
  {
   "cell_type": "code",
   "execution_count": null,
   "id": "b360f579",
   "metadata": {},
   "outputs": [],
   "source": [
    "struct CylindricalScalarField{T}\n",
    "    R::Vector{T}\n",
    "    Z::Vector{T}\n",
    "    Phi::Vector{T}\n",
    "    value::Array{T,3}\n",
    "end"
   ]
  },
  {
   "cell_type": "markdown",
   "id": "51dcf87a",
   "metadata": {},
   "source": [
    "$\\nabla\\cdot\\vec{B}=\\partial_{R} B_{R} + \\partial_{Z} B_{Z} + (B_{R}+\\partial_{\\phi} B_{\\phi})/R$"
   ]
  },
  {
   "cell_type": "code",
   "execution_count": null,
   "id": "ae1d908f",
   "metadata": {},
   "outputs": [],
   "source": [
    "function divergence(v::CylindricalVectorField)\n",
    "    dR = v.R[2]-v.R[1];\n",
    "    dZ = v.Z[2]-v.Z[1];\n",
    "    dPhi = v.Phi[2]-v.Phi[1];\n",
    "    ans = Array{eltype(v.VR),3}(undef, length(v.R), length(v.Z), length(v.Phi) );\n",
    "    ans[2:end-1,2:end-1,:] .= (v.VR[3:end,2:end-1,:].-v.VR[1:end-2,2:end-1,:])./(2*dR) .+ (v.VZ[2:end-1,3:end,:].-v.VZ[2:end-1,1:end-2,:])./(2*dZ);\n",
    "    for iR in 2:length(v.R)-1\n",
    "        ans[iR,:,2:end-1] .+= (v.VR[iR,:,2:end-1] .+ (v.VPhi[iR,:,3:end].-v.VPhi[iR,:,1:end-2])./(2*dPhi) ) ./ R[iR];\n",
    "        ans[iR,:,1] .+= (v.VR[iR,:,1] .+ (v.VPhi[iR,:,2].-v.VPhi[iR,:,end-1])./(2*dPhi) ) ./ R[iR];\n",
    "        ans[iR,:,end] .+= (v.VR[iR,:,1] .+ (v.VPhi[iR,:,2].-v.VPhi[iR,:,end-1])./(2*dPhi) ) ./ R[iR];\n",
    "    end\n",
    "    return CylindricalScalarField(v.R, v.Z, v.Phi, ans )\n",
    "end\n"
   ]
  },
  {
   "cell_type": "code",
   "execution_count": null,
   "id": "ed159f2b",
   "metadata": {},
   "outputs": [],
   "source": [
    "divergence(Bfield).value[:,50,2]"
   ]
  },
  {
   "cell_type": "code",
   "execution_count": null,
   "id": "c9bb0e25",
   "metadata": {},
   "outputs": [],
   "source": [
    "\n",
    "function magnitude(v::CylindricalVectorField)\n",
    "    return .√(v.VR.^2 .+ v.VZ.^2 .+ v.VPhi.^2 )\n",
    "end"
   ]
  },
  {
   "cell_type": "code",
   "execution_count": null,
   "id": "303a198c",
   "metadata": {},
   "outputs": [],
   "source": [
    "function cross(v1::CylindricalVectorField, v2::CylindricalVectorField)\n",
    "    # TODO: check R, Z, Phi grid are identical\n",
    "    return CylindricalVectorField(\n",
    "        v1.R, v1.Z, v1.Phi,\n",
    "        v1.VPhi*v2.VZ - v1.VZ*v2.VPhi, \n",
    "        v1.VR*v2.VPhi - v1.VPhi*v2.VR,\n",
    "        v1.VZ*v2.VR   - v1.VR*v2.VZ)\n",
    "end"
   ]
  },
  {
   "cell_type": "markdown",
   "id": "72d02a66",
   "metadata": {},
   "source": [
    "$\\vec{v}\\cdot\\nabla (u) = v_{R} \\dfrac{\\partial (u)}{\\partial R} + v_{Z} \\dfrac{\\partial (u)}{\\partial Z} +  \\dfrac{v_{\\phi}}{R} \\dfrac{\\partial (u)}{\\partial \\phi}$\n",
    "\n",
    "$\\vec{v}_{1}\\cdot\\nabla (\\vec{v}_{2}) = v_{1,R} \\dfrac{\\partial (\\vec{v}_{2})}{\\partial R} + v_{1,Z} \\dfrac{\\partial (\\vec{v}_{2})}{\\partial Z} +  \\dfrac{v_{1,\\phi}}{R} \\dfrac{\\partial (\\vec{v}_{2})}{\\partial \\phi}$\n",
    "\n",
    "$=v_{1,R}(\\dfrac{\\partial v_{2,R} }{\\partial R} \\hat{\\vec{e}}_{R} + \\dfrac{\\partial v_{2,Z} }{\\partial R} \\hat{\\vec{e}}_{Z}   +\\dfrac{\\partial v_{2,\\phi} }{\\partial R} \\hat{\\vec{e}}_{\\phi}    ) $\n",
    "\n",
    "$+v_{1,Z}(\\dfrac{\\partial v_{2,R} }{\\partial Z} \\hat{\\vec{e}}_{R} + \\dfrac{\\partial v_{2,Z} }{\\partial Z} \\hat{\\vec{e}}_{Z}   +\\dfrac{\\partial v_{2,\\phi} }{\\partial Z} \\hat{\\vec{e}}_{\\phi}    ) $\n",
    "\n",
    "$+\\dfrac{v_{1,\\phi}}{R}(\\dfrac{\\partial v_{2,R} }{\\partial \\phi} \\hat{\\vec{e}}_{R} + \\dfrac{\\partial v_{2,Z} }{\\partial \\phi} \\hat{\\vec{e}}_{Z}   +\\dfrac{\\partial v_{2,\\phi} }{\\partial \\phi} \\hat{\\vec{e}}_{\\phi}    ) $\n",
    "\n",
    "$+\\dfrac{v_{1,\\phi}}{R}(v_{2,R} \\hat{\\vec{e}}_{\\phi} + \\qquad \\cdots\\qquad   -  v_{2,\\phi} \\hat{\\vec{e}}_{R}    ) $\n",
    "\n",
    "$\\hat{\\vec{e}}_{R}= \\cos\\phi \\hat{\\vec{e}}_{x} + \\sin\\phi \\hat{\\vec{e}}_{y}$\n",
    "\n",
    "$\\hat{\\vec{e}}_{\\phi}= -\\sin\\phi \\hat{\\vec{e}}_{x} + \\cos\\phi \\hat{\\vec{e}}_{y}$\n",
    "\n",
    "$\\dfrac{\\partial \\hat{\\vec{e}}_{R} }{\\partial \\phi} = \\hat{\\vec{e}}_{\\phi} $\n",
    "\n",
    "$\\dfrac{\\partial \\hat{\\vec{e}}_{\\phi} }{\\partial \\phi} = -\\hat{\\vec{e}}_{R} $"
   ]
  },
  {
   "cell_type": "code",
   "execution_count": null,
   "id": "57b0b07f",
   "metadata": {},
   "outputs": [],
   "source": [
    "function directional_derivative_along_v_of_s(v::CylindricalVectorField, s::CylindricalScalarField)\n",
    "    R, Z, Phi = v1.R, v1.Z, v1.Phi\n",
    "    \n",
    "    dR = R[2]-R[1]\n",
    "    dZ = Z[2]-Z[1]\n",
    "    dPhi = Phi[2]-Phi[1]\n",
    "    scal = s.value\n",
    "    ans = Array{eltype(v.VR),3}(undef, length(v.R), length(v.Z), length(v.Phi) );\n",
    "    ans[2:end-1,2:end-1,:] .= v.VR[2:end-1,2:end-1,:] .* ( (scal[3:end,2:end-1,:].-scal[1:end-2,2:end-1,:])./(2*dR) );\n",
    "    ans[2:end-1,2:end-1,:].+= v.VZ[2:end-1,2:end-1,:] .* ( (scal[2:end-1,3:end,:].-scal[2:end-1,1:end-2,:])./(2*dZ) );\n",
    "    for iR in 2:length(v.R)-1\n",
    "        ans[iR,:,2:end-1] .+=  v.VPhi[iR,:,2:end-1]./R[iR] .* (scal[iR,:,3:end].-scal[iR,:,1:end-2])./(2*dPhi)  ;\n",
    "        ans[iR,:,1] .+= v.VPhi[iR,:,1]./R[iR] .* (scal[iR,:,2].-scal[iR,:,end-1])./(2*dPhi) ;\n",
    "        ans[iR,:,end] .+= v.VPhi[iR,:,1]./R[iR]  .* (scal[iR,:,2].-scal[iR,:,end-1])./(2*dPhi) ;\n",
    "    end\n",
    "    return CylindricalScalarField(R, Z, Phi, ans)\n",
    "end\n",
    "\n",
    "function directional_derivative_along_v1_of_v2(v1::CylindricalVectorField, v2::CylindricalVectorField)\n",
    "    R, Z, Phi = v1.R, v1.Z, v1.Phi\n",
    "    \n",
    "    dR = R[2]-R[1]\n",
    "    dZ = Z[2]-Z[1]\n",
    "    dPhi = Phi[2]-Phi[1]\n",
    "    ans_VR = Array{eltype(v1.VR),3}(undef, length(R), length(Z), length(Phi) );\n",
    "    ans_VZ = Array{eltype(v1.VR),3}(undef, length(R), length(Z), length(Phi) );\n",
    "    ans_VPhi = Array{eltype(v1.VR),3}(undef, length(R), length(Z), length(Phi) );\n",
    "    ans_VR[2:end-1,2:end-1,:] .= v1.VR[2:end-1,2:end-1,:] .* ( (v2.VR[3:end,2:end-1,:].-v2.VR[1:end-2,2:end-1,:])./(2*dR) );\n",
    "    ans_VZ[2:end-1,2:end-1,:] .= v1.VR[2:end-1,2:end-1,:] .* ( (v2.VZ[3:end,2:end-1,:].-v2.VZ[1:end-2,2:end-1,:])./(2*dR) );\n",
    "    ans_VPhi[2:end-1,2:end-1,:] .= v1.VR[2:end-1,2:end-1,:] .* ( (v2.VPhi[3:end,2:end-1,:].-v2.VPhi[1:end-2,2:end-1,:])./(2*dR) );\n",
    "    \n",
    "    ans_VR[2:end-1,2:end-1,:] .+= v1.VZ[2:end-1,2:end-1,:] .* ( (v2.VR[2:end-1,3:end,:].-v2.VR[2:end-1,1:end-2,:])./(2*dZ) );\n",
    "    ans_VZ[2:end-1,2:end-1,:] .+= v1.VZ[2:end-1,2:end-1,:] .* ( (v2.VZ[2:end-1,3:end,:].-v2.VZ[2:end-1,1:end-2,:])./(2*dZ) );\n",
    "    ans_VPhi[2:end-1,2:end-1,:] .+= v1.VZ[2:end-1,2:end-1,:] .* ( (v2.VPhi[2:end-1,3:end,:].-v2.VPhi[2:end-1,1:end-2,:])./(2*dZ) );\n",
    "    \n",
    "    for iR in 2:length(R)-1\n",
    "        # For the 0 < \\phi < 2\\pi/n sections\n",
    "        ans_VR[iR,:,2:end-1] .+= v1.VPhi[iR,:,2:end-1]./R[iR] .* ( (v2.VR[iR,:,3:end].-v2.VR[iR,:,1:end-2])./(2*dPhi) ) ;\n",
    "        ans_VZ[iR,:,2:end-1] .+= v1.VPhi[iR,:,2:end-1]./R[iR] .* ( (v2.VZ[iR,:,3:end].-v2.VZ[iR,:,1:end-2])./(2*dPhi) );\n",
    "        ans_VPhi[iR,:,2:end-1] .+= v1.VPhi[iR,:,2:end-1]./R[iR] .* ( (v2.VPhi[iR,:,3:end].-v2.VPhi[iR,:,1:end-2])./(2*dPhi) );\n",
    "        \n",
    "        ans_VPhi[iR,:,2:end-1] .+= v1.VPhi[iR,:,2:end-1]./R[iR] .* v2.VR[iR,:,2:end-1];\n",
    "        ans_VR[iR,:,2:end-1] .-= v1.VPhi[iR,:,2:end-1]./R[iR] .* v2.VPhi[iR,:,2:end-1];\n",
    "        \n",
    "        # For the \\phi=0 section\n",
    "        ans_VR[iR,:,1] .+= v1.VPhi[iR,:,1]./R[iR] .* ( (v2.VR[iR,:,2].-v2.VR[iR,:,end-1])./(2*dPhi) );\n",
    "        ans_VZ[iR,:,1] .+= v1.VPhi[iR,:,1]./R[iR] .* ( (v2.VZ[iR,:,2].-v2.VZ[iR,:,end-1])./(2*dPhi) );\n",
    "        ans_VPhi[iR,:,1] .+= v1.VPhi[iR,:,1]./R[iR] .* ( (v2.VPhi[iR,:,2].-v2.VPhi[iR,:,end-1])./(2*dPhi) );\n",
    "        \n",
    "        ans_VPhi[iR,:,1] .+= v1.VPhi[iR,:,1]./R[iR] .* v2.VR[iR,:,1];\n",
    "        ans_VR[iR,:,1] .-= v1.VPhi[iR,:,1]./R[iR] .* v2.VPhi[iR,:,1];\n",
    "        \n",
    "        # For the \\phi=2\\pi/n section\n",
    "        ans_VR[iR,:,end] .+= v1.VPhi[iR,:,1]./R[iR] .* ( (v2.VR[iR,:,2].-v2.VR[iR,:,end-1])./(2*dPhi) ) ;\n",
    "        ans_VZ[iR,:,end] .+= v1.VPhi[iR,:,1]./R[iR] .* ( (v2.VZ[iR,:,2].-v2.VZ[iR,:,end-1])./(2*dPhi) );\n",
    "        ans_VPhi[iR,:,end] .+= v1.VPhi[iR,:,1]./R[iR] .* ( (v2.VPhi[iR,:,2].-v2.VPhi[iR,:,end-1])./(2*dPhi) );\n",
    "        \n",
    "        ans_VPhi[iR,:,end] .+= v1.VPhi[iR,:,1]./R[iR] .* v2.VR[iR,:,1];\n",
    "        ans_VR[iR,:,end] .-= v1.VPhi[iR,:,1]./R[iR] .* v2.VPhi[iR,:,1];\n",
    "    end\n",
    "    \n",
    "    return CylindricalVectorField(R,Z,Phi, ans_VR, ans_VZ, ans_VPhi)\n",
    "end"
   ]
  },
  {
   "cell_type": "code",
   "execution_count": null,
   "id": "2edde85c",
   "metadata": {},
   "outputs": [],
   "source": [
    "Bfield = CylindricalVectorField(R,Z,Phi,BR,BZ,BPhi);"
   ]
  },
  {
   "cell_type": "code",
   "execution_count": null,
   "id": "e58c1942",
   "metadata": {},
   "outputs": [],
   "source": [
    "size( divergence(Bfield).value ) "
   ]
  },
  {
   "cell_type": "code",
   "execution_count": null,
   "id": "987ebb63",
   "metadata": {},
   "outputs": [],
   "source": [
    "rminb = NetCDF.ncread(\"/home/dell/fusiondata/w7x/w7x_standard.nc\", \"rminb\")[1];\n",
    "rmaxb = NetCDF.ncread(\"/home/dell/fusiondata/w7x/w7x_standard.nc\", \"rmaxb\")[1];\n",
    "zminb = NetCDF.ncread(\"/home/dell/fusiondata/w7x/w7x_standard.nc\", \"zminb\")[1];\n",
    "zmaxb = NetCDF.ncread(\"/home/dell/fusiondata/w7x/w7x_standard.nc\", \"zmaxb\")[1];"
   ]
  },
  {
   "cell_type": "code",
   "execution_count": null,
   "id": "89b7a604",
   "metadata": {},
   "outputs": [],
   "source": [
    "using Ranges\n",
    "R = collect( range(rminb, stop=rmaxb, length=256) );\n",
    "Z = collect( range(zminb, stop=zmaxb, length=256) );\n",
    "Phi = collect( range(0.0, stop=2pi/5, length=129) );"
   ]
  },
  {
   "cell_type": "code",
   "execution_count": null,
   "id": "cf6e782f",
   "metadata": {},
   "outputs": [],
   "source": [
    "for iPhi = 1:length(Phi)-1\n",
    "    BR[:,:,iPhi] = ncfile.vars[\"B_R\"][:,:,iPhi];\n",
    "    BZ[:,:,iPhi] = ncfile.vars[\"B_Z\"][:,:,iPhi];\n",
    "    BPhi[:,:,iPhi] = ncfile.vars[\"B_phi\"][:,:,iPhi];\n",
    "end\n",
    "BR[:,:,end] = ncfile.vars[\"B_R\"][:,:,1];\n",
    "BZ[:,:,end] = ncfile.vars[\"B_Z\"][:,:,1];\n",
    "BPhi[:,:,end] = ncfile.vars[\"B_phi\"][:,:,1];"
   ]
  },
  {
   "cell_type": "code",
   "execution_count": null,
   "id": "196946f8",
   "metadata": {},
   "outputs": [],
   "source": [
    "dirderi_alongB_B = directional_derivative_along_v1_of_v2(Bfield, Bfield);\n"
   ]
  },
  {
   "cell_type": "code",
   "execution_count": null,
   "id": "b5de4fd2",
   "metadata": {},
   "outputs": [],
   "source": []
  },
  {
   "cell_type": "code",
   "execution_count": null,
   "id": "6134da35",
   "metadata": {},
   "outputs": [],
   "source": [
    "heatmap_test = transpose( range(1:50)^3 ) .+ range(1:4);"
   ]
  },
  {
   "cell_type": "code",
   "execution_count": null,
   "id": "ddedcd90",
   "metadata": {},
   "outputs": [],
   "source": [
    "\n",
    "heatmap((1:50), 1:4, transpose(heatmap_test), clims=(0, 2))"
   ]
  },
  {
   "cell_type": "markdown",
   "id": "c8a02a93",
   "metadata": {},
   "source": [
    "$$\\begin{bmatrix}\n",
    "B_{R}\\\\ \n",
    "B_{\\phi}\\\\ \n",
    "B_{Z}\n",
    "\\end{bmatrix} = \\begin{bmatrix}\n",
    "\\cos\\phi & \\sin\\phi & \\\\ \n",
    "-\\sin\\phi & \\cos\\phi & \\\\ \n",
    " &  & 1\n",
    "\\end{bmatrix} \\begin{bmatrix}\n",
    "B_{x}\\\\ \n",
    "B_{y}\\\\ \n",
    "B_{z}\n",
    "\\end{bmatrix}$$\n",
    "\n",
    "$$\\begin{bmatrix}\n",
    "B_{x}\\\\ \n",
    "B_{y}\\\\ \n",
    "B_{z}\n",
    "\\end{bmatrix} = \\begin{bmatrix}\n",
    "\\cos\\phi & -\\sin\\phi & \\\\ \n",
    "\\sin\\phi & \\cos\\phi & \\\\ \n",
    " &  & 1\n",
    "\\end{bmatrix} \\begin{bmatrix}\n",
    "B_{R}\\\\ \n",
    "B_{\\phi}\\\\ \n",
    "B_{Z}\n",
    "\\end{bmatrix}$$"
   ]
  },
  {
   "cell_type": "code",
   "execution_count": null,
   "id": "cee381c5",
   "metadata": {},
   "outputs": [],
   "source": [
    "\n",
    "Bx = similar(BR)\n",
    "By = similar(BR)\n",
    "Bz = BZ\n",
    "for iPhi = 1:129\n",
    "    phi = Phi[iPhi]\n",
    "    Bx[:,:,iPhi] = BR[:,:,iPhi] .* cos(phi) - BPhi[:,:,iPhi] .* sin(phi);\n",
    "    By[:,:,iPhi] = BR[:,:,iPhi] .* sin(phi) + BPhi[:,:,iPhi] .* cos(phi);\n",
    "end"
   ]
  },
  {
   "cell_type": "code",
   "execution_count": null,
   "id": "a13e5e7d",
   "metadata": {},
   "outputs": [],
   "source": [
    "import DifferentialEquations as DE"
   ]
  },
  {
   "cell_type": "code",
   "execution_count": null,
   "id": "2d9abf16",
   "metadata": {},
   "outputs": [],
   "source": [
    "# using GridInterpolations\n",
    "using Interpolations"
   ]
  },
  {
   "cell_type": "code",
   "execution_count": null,
   "id": "6a5e334d",
   "metadata": {},
   "outputs": [],
   "source": [
    "\n",
    "Bx_interp = linear_interpolation((R,Z,Phi), Bx);\n",
    "By_interp = linear_interpolation((R,Z,Phi), By);\n",
    "Bz_interp = linear_interpolation((R,Z,Phi), Bz);"
   ]
  },
  {
   "cell_type": "code",
   "execution_count": null,
   "id": "b3599c9e",
   "metadata": {},
   "outputs": [],
   "source": [
    "Bz_interp(x0[1], x0[2], x0[3])"
   ]
  },
  {
   "cell_type": "code",
   "execution_count": null,
   "id": "db011f8e",
   "metadata": {},
   "outputs": [],
   "source": [
    "newaxis = [CartesianIndex()]  "
   ]
  },
  {
   "cell_type": "code",
   "execution_count": null,
   "id": "bc14b2b4",
   "metadata": {},
   "outputs": [],
   "source": [
    "\n",
    "BR_interp = linear_interpolation((R,Z,Phi), BR);\n",
    "BZ_interp = linear_interpolation((R,Z,Phi), BZ);\n",
    "BPhi_interp = linear_interpolation((R,Z,Phi), BPhi);"
   ]
  },
  {
   "cell_type": "code",
   "execution_count": null,
   "id": "462aa147",
   "metadata": {},
   "outputs": [],
   "source": [
    "using TensorCast\n",
    "using Memoization"
   ]
  },
  {
   "cell_type": "code",
   "execution_count": null,
   "id": "141f2e6f",
   "metadata": {},
   "outputs": [],
   "source": [
    "@cast RBRoBPhi[iR,iZ,iPhi] := R[iR] * BR[iR,iZ,iPhi] / BPhi[iR,iZ,iPhi];\n",
    "@cast RBZoBPhi[iR,iZ,iPhi] := R[iR] * BZ[iR,iZ,iPhi] / BPhi[iR,iZ,iPhi];"
   ]
  },
  {
   "cell_type": "code",
   "execution_count": null,
   "id": "813f0aab",
   "metadata": {},
   "outputs": [],
   "source": [
    "size(RBRoBPhi)"
   ]
  },
  {
   "cell_type": "code",
   "execution_count": null,
   "id": "5fcc27a1",
   "metadata": {},
   "outputs": [],
   "source": [
    "dR = R[2] - R[1]\n",
    "dZ = Z[2] - Z[1]\n",
    "@memoize function partial_derivative_pRpZ(field, Rord, Zord)\n",
    "    if Rord==0 && Zord==0\n",
    "        return field\n",
    "    elseif Rord > 0\n",
    "        lastord_field = partial_derivative_pRpZ(field, Rord-1, Zord)\n",
    "        return (lastord_field[3:end,:,:]- lastord_field[1:end-2,:,:]) / (2dR)\n",
    "    elseif Zord > 0 \n",
    "        lastord_field = partial_derivative_pRpZ(field, Rord, Zord-1)\n",
    "        return (lastord_field[:,3:end,:]- lastord_field[:,1:end-2,:]) / (2dZ)\n",
    "    end\n",
    "end\n",
    "\n",
    "        "
   ]
  },
  {
   "cell_type": "code",
   "execution_count": null,
   "id": "a272ded8",
   "metadata": {},
   "outputs": [],
   "source": [
    "@memoize function partial_derivative_pRpZ_interp(field, Rord, Zord)\n",
    "    return linear_interpolation( \n",
    "            (R[1+Rord:end-Rord], \n",
    "            Z[1+Zord:end-Zord], \n",
    "            Phi), \n",
    "        partial_derivative_pRpZ(field, Rord, Zord) )\n",
    "end\n",
    "\n",
    "        "
   ]
  },
  {
   "cell_type": "code",
   "execution_count": null,
   "id": "d4640705",
   "metadata": {},
   "outputs": [],
   "source": [
    "@time partial_derivative_pRpZ(RBRoBPhi, 7,18);"
   ]
  },
  {
   "cell_type": "code",
   "execution_count": null,
   "id": "96477da4",
   "metadata": {},
   "outputs": [],
   "source": [
    "A11 = partial_derivative_pRpZ_interp(RBRoBPhi,1,0);\n",
    "A12 = partial_derivative_pRpZ_interp(RBRoBPhi,0,1);\n",
    "A21 = partial_derivative_pRpZ_interp(RBZoBPhi,1,0); \n",
    "A22 = partial_derivative_pRpZ_interp(RBZoBPhi,0,1);\n"
   ]
  },
  {
   "cell_type": "code",
   "execution_count": null,
   "id": "7a109927",
   "metadata": {},
   "outputs": [],
   "source": [
    "FLT_A = nothing\n",
    "gc()"
   ]
  },
  {
   "cell_type": "code",
   "execution_count": null,
   "id": "2d1adaf8",
   "metadata": {},
   "outputs": [],
   "source": [
    "# A11(R[10],Z[10],Phi[10]), A12(R[10],Z[10],Phi[10])\n",
    "@inline FLT_A(r,z,phi) = [A11(r,z,phi)  A12(r,z,phi); A21(r,z,phi)  A22(r,z,phi)]"
   ]
  },
  {
   "cell_type": "code",
   "execution_count": null,
   "id": "b70b136d",
   "metadata": {},
   "outputs": [],
   "source": [
    "FLT_A(R[10], Z[40], Phi[120])"
   ]
  },
  {
   "cell_type": "code",
   "execution_count": null,
   "id": "1d0524c7",
   "metadata": {},
   "outputs": [],
   "source": [
    "R[iR] * BR[iR,iZ,iPhi] / BPhi[iR,iZ,iPhi]"
   ]
  },
  {
   "cell_type": "code",
   "execution_count": null,
   "id": "76a5d2ac",
   "metadata": {},
   "outputs": [],
   "source": [
    "function FLT_cartesian!(dx,x,p,t)\n",
    "    r = sqrt(x[1]^2 + x[2]^2)\n",
    "    z = x[3]\n",
    "    phi = atan(x[2], x[1])\n",
    "    phimod = mod( phi, 2pi/5 )\n",
    "    \n",
    "#     dx[1] = Bx_interp(r, z, phi)\n",
    "#     dx[2] = By_interp(r, z, phi)\n",
    "#     dx[3] = Bz_interp(r, z, phi)\n",
    "    BR_ = BR_interp(r,z,phimod)\n",
    "    BZ_ = BZ_interp(r,z,phimod)\n",
    "    BPhi_ = BPhi_interp(r,z,phimod)\n",
    "    dx[1] = BR_ * cos(phi) - BPhi_ * sin(phi)\n",
    "    dx[2] = BR_ * sin(phi) + BPhi_ * cos(phi)\n",
    "    dx[3] = BZ_\n",
    "end"
   ]
  },
  {
   "cell_type": "code",
   "execution_count": null,
   "id": "17b00035",
   "metadata": {},
   "outputs": [],
   "source": [
    "function FLT_cylindrical!(dx,x,p,phi)\n",
    "    phimod = mod( phi, 2pi/5 )\n",
    "    dx[1] = x[1] * BR_interp(x[1], x[2], phimod) / BPhi_interp(x[1], x[2], phimod)\n",
    "    dx[2] = x[1] * BZ_interp(x[1], x[2], phimod) / BPhi_interp(x[1], x[2], phimod)\n",
    "end\n"
   ]
  },
  {
   "cell_type": "code",
   "execution_count": null,
   "id": "8230bbcd",
   "metadata": {},
   "outputs": [],
   "source": [
    "condition(x,t,integrator) = x[1]>R[end-3] || x[1] < R[3] || x[2] >Z[end-3] || x[2] < Z[3]\n",
    "affect!(integrator) = DE.terminate!(integrator)\n",
    "cb = DE.DiscreteCallback(condition,affect!)\n",
    "roundN = 500.0\n",
    "trajN = 40\n",
    "# x0s = Array{Float64,2}(undef, trajN, 3);\n",
    "# x0s[:,1] = range(6.0, stop=6.0, length=trajN);\n",
    "# x0s[:,2].= 0.0;\n",
    "# x0s[:,3] = range(-0.8, stop=0.8, length=trajN);\n",
    "\n",
    "x0s = Array{Float64,2}(undef, trajN, 2);\n",
    "x0s[:,1] = range(6.2, stop=5.4, length=trajN);\n",
    "x0s[:,2] = range(-0.6, stop=1.0, length=trajN);\n",
    "\n",
    "tspan = (0.0, roundN*2pi)\n",
    "# prob = DE.ODEProblem(FLT_cartesian!, x0s[1,:], tspan)\n",
    "prob = DE.ODEProblem(FLT_cylindrical!, x0s[1,:], tspan)\n",
    "\n",
    "function prob_func(prob, i, repeat)\n",
    "    DE.remake(prob, u0=x0s[i,:])\n",
    "end\n",
    "ensemble_prob = DE.EnsembleProblem(prob, prob_func=prob_func)\n",
    "# sol = solve(prob, RK4(), abstol=1e-9, reltol=1e-9, maxiters=1e9, dt=pi/128,) #dt=pi/128, dtmax=pi/128\n",
    "ensemble_sol = DE.solve(\n",
    "    ensemble_prob, DE.RK4(), DE.EnsembleThreads(), trajectories=trajN, \n",
    "    abstol=1e-9, reltol=1e-6, maxiters=1e9, dt=pi/128, callback=cb )"
   ]
  },
  {
   "cell_type": "code",
   "execution_count": null,
   "id": "c100009a",
   "metadata": {},
   "outputs": [],
   "source": [
    "maximum(ensemble_sol[1].t)"
   ]
  },
  {
   "cell_type": "code",
   "execution_count": null,
   "id": "b268e076",
   "metadata": {},
   "outputs": [],
   "source": [
    "\n",
    "function FLT_cylindrical_Jac!(dDXpol,DXpol,p,phi)\n",
    "    phimod = mod( phi, 2pi/5 )\n",
    "    traj_i = p[1]\n",
    "    r,z = ensemble_sol[traj_i](phi)\n",
    "    dDXpol[:,:] = FLT_A(r,z,phimod) * DXpol\n",
    "end"
   ]
  },
  {
   "cell_type": "code",
   "execution_count": null,
   "id": "3b4a03b6",
   "metadata": {},
   "outputs": [],
   "source": [
    "\n",
    "prob_Jac = DE.ODEProblem(FLT_cylindrical_Jac!, [1 0; 0 1], tspan, [0])\n",
    "function prob_func_Jac(prob, i, repeat)\n",
    "    DE.remake(prob, tspan=[0.0, maximum(ensemble_sol[i].t) ], p=[i] )\n",
    "end\n",
    "ensemble_prob_Jac = DE.EnsembleProblem(prob_Jac, prob_func=prob_func_Jac)\n",
    "# sol = solve(prob, RK4(), abstol=1e-9, reltol=1e-9, maxiters=1e9, dt=pi/128,) #dt=pi/128, dtmax=pi/128\n",
    "ensemble_sol_Jac = DE.solve(\n",
    "    ensemble_prob_Jac, DE.RK4(), DE.EnsembleThreads(), trajectories=trajN, \n",
    "    abstol=1e-9, reltol=1e-6, maxiters=1e9, dt=pi/128, )"
   ]
  },
  {
   "cell_type": "code",
   "execution_count": null,
   "id": "2a589fc7",
   "metadata": {},
   "outputs": [],
   "source": [
    "size( reduce(vcat, [LA.eigvals(DXpol)' for DXpol in ensemble_sol_Jac[1].u] ) )"
   ]
  },
  {
   "cell_type": "code",
   "execution_count": null,
   "id": "ba054a33",
   "metadata": {},
   "outputs": [],
   "source": [
    "import LinearAlgebra as LA\n",
    "using Plots\n",
    "\n",
    "for traj_i = 1:1\n",
    "    DXpol_Phi = ensemble_sol_Jac[traj_i].t[1:10:end]\n",
    "    DXpol_eigvals = reduce(vcat, [LA.eigvals(DXpol)' for DXpol in ensemble_sol_Jac[traj_i].u[1:10:end] ] )\n",
    "    plot(DXpol_Phi, DXpol_eigvals)\n",
    "end"
   ]
  },
  {
   "cell_type": "code",
   "execution_count": null,
   "id": "29b0000a",
   "metadata": {},
   "outputs": [],
   "source": [
    "ensemble_sol[5](51.5pi)\n",
    "# FLT_A(R[123],Z[123],Phi[23])"
   ]
  },
  {
   "cell_type": "code",
   "execution_count": null,
   "id": "cc70ef4b",
   "metadata": {},
   "outputs": [],
   "source": [
    "helA = rand(9)"
   ]
  },
  {
   "cell_type": "code",
   "execution_count": null,
   "id": "0dbe4e30",
   "metadata": {},
   "outputs": [],
   "source": [
    "helA[1:2:]"
   ]
  },
  {
   "cell_type": "code",
   "execution_count": null,
   "id": "767fc080",
   "metadata": {},
   "outputs": [],
   "source": [
    "traj_i = 10\n",
    "maxphi_i = 600001\n",
    "dphi_ind = 20\n",
    "println(\"max phi:\", ensemble_sol_Jac[traj_i].t[maxphi_i])\n",
    "DXpol_Phi = ensemble_sol_Jac[traj_i].t[1:dphi_ind:maxphi_i]\n",
    "DXpol_eigvals = reduce(vcat, [LA.eigvals(DXpol)' for DXpol in ensemble_sol_Jac[traj_i].u[1:dphi_ind:maxphi_i] ] )\n",
    "plot(DXpol_Phi, abs.(DXpol_eigvals) )"
   ]
  },
  {
   "cell_type": "code",
   "execution_count": null,
   "id": "de6eb3bc",
   "metadata": {},
   "outputs": [],
   "source": [
    "import LinearAlgebra as LA\n",
    "using Plots\n",
    "traj_i = 12\n",
    "roundN_todraw = 500\n",
    "\n",
    "DXpol_eigvals = reduce(vcat, [LA.eigvals(ensemble_sol_Jac[traj_i](2pi*i))'  for i in range(0,roundN_todraw)] )\n",
    "scatter( range(0,roundN_todraw), abs.(DXpol_eigvals[:,1]), labels=\"abs(λ1)\")\n",
    "scatter!( range(0,roundN_todraw), abs.(DXpol_eigvals[:,2]), labels=\"abs(λ2)\" )\n",
    "\n",
    "    "
   ]
  },
  {
   "cell_type": "code",
   "execution_count": null,
   "id": "4e846b94",
   "metadata": {},
   "outputs": [],
   "source": [
    "using Plots\n",
    "# plot(sol)\n",
    "plot(ensemble_sol)\n",
    "# plot(ensemble_sol[1])"
   ]
  },
  {
   "cell_type": "code",
   "execution_count": null,
   "id": "2087f7d9",
   "metadata": {},
   "outputs": [],
   "source": [
    "[ensemble_sol[1](2pi*i) for i in range(0, roundN+1)]"
   ]
  },
  {
   "cell_type": "code",
   "execution_count": null,
   "id": "f3698500",
   "metadata": {},
   "outputs": [],
   "source": [
    "hcat( reduce( hcat, [ensemble_sol[1](2pi*i) for i in range(0, 20)] )', [2pi*i for i in range(0, 20) ] )  "
   ]
  },
  {
   "cell_type": "code",
   "execution_count": null,
   "id": "333e980a",
   "metadata": {},
   "outputs": [],
   "source": [
    "using NPZ\n",
    "orb_dict = Dict{String, AbstractArray}()\n",
    "for traj_i in range(1, trajN)\n",
    "#     scatRZPhi = hcat( reduce( hcat, [ensemble_sol[traj_i](2pi*i) for i in range(0, roundN)] )', [2pi*i for i in range(0, roundN) ] )\n",
    "#     println(size(scatRZPhi))\n",
    "    orb_dict[string(traj_i)] = hcat( reduce( hcat, [ensemble_sol[traj_i](2pi*i) for i in range(0, roundN)] )', [2pi*i for i in range(0, roundN) ] )\n",
    "#     Plots.scatter!(scatx, scaty)\n",
    "end\n",
    "\n",
    "npzwrite(\"w7x_standard_phi_0_Poincare_orbits.npz\", orb_dict )"
   ]
  },
  {
   "cell_type": "code",
   "execution_count": null,
   "id": "19d950f0",
   "metadata": {},
   "outputs": [],
   "source": []
  },
  {
   "cell_type": "code",
   "execution_count": null,
   "id": "43cae668",
   "metadata": {},
   "outputs": [],
   "source": [
    "using CSV, DataFrames\n",
    "\n",
    "for traj_i in range(1, trajN)\n",
    "    orb_filename = \"/home/dell/fusiondata/w7x/w7x_standard_orbits/w7x_standard_\" * string(traj_i) * \".csv\"\n",
    "    touch(orb_filename)\n",
    "    file_handle = open(orb_filename, \"w\")\n",
    "    scatRZ = reduce( hcat, [ensemble_sol[traj_i](2pi*i) for i in range(0, roundN)] )\n",
    "    scatR, scatZ = scatRZ[1,:], scatRZ[2,:]\n",
    "    CSV.write(orb_filename, DataFrame(R = scatR, Z = scatZ, Phi = [2pi*i for i in range(0, roundN)] ) )\n",
    "end\n",
    "\n",
    "\n"
   ]
  },
  {
   "cell_type": "code",
   "execution_count": null,
   "id": "422f2e6a",
   "metadata": {},
   "outputs": [],
   "source": [
    "using CSV\n",
    "CSV.write(\"output.csv\", DataFrame(ensemble_sol), bufsize=Int64(1e10) ) "
   ]
  },
  {
   "cell_type": "code",
   "execution_count": null,
   "id": "a8f8fdfd",
   "metadata": {},
   "outputs": [],
   "source": [
    "npzwritearray(npzfile_orb,  hcat( reduce( hcat, [ensemble_sol[1](2pi*i) for i in range(0, 20)] )', [2pi*i for i in range(0, 20) ] )  )"
   ]
  },
  {
   "cell_type": "code",
   "execution_count": null,
   "id": "1c869cf1",
   "metadata": {},
   "outputs": [],
   "source": [
    "import Plots\n",
    "scatxy = reduce( hcat, [ensemble_sol[1](2pi*i) for i in range(0, roundN)] )\n",
    "scatx, scaty = scatxy[1,:], scatxy[2,:]\n",
    "Plots.scatter(scatx, scaty,)\n",
    "for traj_i in range(2, trajN-1)\n",
    "    scatxy = reduce( hcat, [ensemble_sol[traj_i](2pi*i) for i in range(0, roundN)] )\n",
    "    scatx, scaty = scatxy[1,:], scatxy[2,:]\n",
    "    Plots.scatter!(scatx, scaty)\n",
    "end\n"
   ]
  },
  {
   "cell_type": "code",
   "execution_count": null,
   "id": "cc906f43",
   "metadata": {},
   "outputs": [],
   "source": [
    "using Plots\n",
    "# a = rand(5,5)\n",
    "# xlabel = string.(collect('A':'E'))\n",
    "# ylabel = string.(collect('a':'e'))\n",
    "heatmap(R, Z,  BPhi[:,:,1], aspect_ratio=:equal)"
   ]
  },
  {
   "cell_type": "code",
   "execution_count": null,
   "id": "9af1afb9",
   "metadata": {},
   "outputs": [],
   "source": [
    "\n",
    "heatmap(R, Z, transpose(BR[:,:,1]), aspect_ratio=:equal)"
   ]
  },
  {
   "cell_type": "code",
   "execution_count": null,
   "id": "7131c383",
   "metadata": {},
   "outputs": [],
   "source": [
    "heatmat = transpose(BZ[:,:,1] )\n",
    "heatmap(R, Z, heatmat, aspect_ratio=:equal, c=cgrad(:balance, [ (0.0-minimum(heatmat) )/( maximum(heatmat)-minimum(heatmat) ),]))"
   ]
  },
  {
   "cell_type": "code",
   "execution_count": null,
   "id": "5f0527e9",
   "metadata": {},
   "outputs": [],
   "source": [
    "import Plots\n",
    "heatmat = transpose(BPhi[:,:,80] )\n",
    "Plots.heatmap(R, Z, heatmat, aspect_ratio=:equal, c=Plots.cgrad(:balance, [ (0.0-minimum(heatmat) )/( maximum(heatmat)-minimum(heatmat) ),]))"
   ]
  },
  {
   "cell_type": "code",
   "execution_count": null,
   "id": "0669f38f",
   "metadata": {},
   "outputs": [],
   "source": [
    "scatxy = reduce( hcat, [ensemble_sol[1](2pi*i) for i in range(0, ttrajN+1)] )\n",
    "scatx, scaty = scatxy[1,:], scatxy[2,:]"
   ]
  },
  {
   "cell_type": "code",
   "execution_count": null,
   "id": "52975a2d",
   "metadata": {},
   "outputs": [],
   "source": [
    "for i in range(0, 5)\n",
    "    println(i)\n",
    "end"
   ]
  },
  {
   "cell_type": "code",
   "execution_count": null,
   "id": "32fb831e",
   "metadata": {
    "scrolled": true
   },
   "outputs": [],
   "source": [
    "reduce( hcat, [ensemble_sol[1](2pi*i) for i in range(5)] )[1,:]"
   ]
  },
  {
   "cell_type": "code",
   "execution_count": null,
   "id": "fd8867ad",
   "metadata": {},
   "outputs": [],
   "source": [
    "import Plots\n",
    "\n",
    "Plots.scatter()"
   ]
  }
 ],
 "metadata": {
  "kernelspec": {
   "display_name": "Julia 1.8.2",
   "language": "julia",
   "name": "julia-1.8"
  },
  "language_info": {
   "file_extension": ".jl",
   "mimetype": "application/julia",
   "name": "julia",
   "version": "1.8.2"
  }
 },
 "nbformat": 4,
 "nbformat_minor": 5
}
